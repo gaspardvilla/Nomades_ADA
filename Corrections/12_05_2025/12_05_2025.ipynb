{
 "cells": [
  {
   "cell_type": "code",
   "execution_count": null,
   "metadata": {},
   "outputs": [],
   "source": [
    "import os\n",
    "import numpy as np\n",
    "import pandas as pd\n",
    "import matplotlib.pyplot as plt\n",
    "from scipy.stats import gaussian_kde\n",
    "\n",
    "# Autoreload of the files\n",
    "%load_ext autoreload\n",
    "%autoreload 2"
   ]
  },
  {
   "cell_type": "code",
   "execution_count": null,
   "metadata": {},
   "outputs": [],
   "source": [
    "path = '/Users/gaspardvilla/Local/NAT/nat_ada'\n",
    "# Create the data folder if it doesn't exist\n",
    "os.makedirs(path, exist_ok=True)\n",
    "os.makedirs(f\"{path}/slides_images\", exist_ok=True)"
   ]
  },
  {
   "cell_type": "code",
   "execution_count": null,
   "metadata": {},
   "outputs": [],
   "source": [
    "revenues = pd.read_csv(f\"{path}/data/revenue_data.csv\")\n",
    "revenues.head(10)"
   ]
  },
  {
   "cell_type": "markdown",
   "metadata": {},
   "source": [
    "# Histograms\n",
    "***"
   ]
  },
  {
   "cell_type": "code",
   "execution_count": null,
   "metadata": {},
   "outputs": [],
   "source": [
    "plt.figure(figsize=(10, 6))\n",
    "education_counts = revenues[\"Education_Level\"].value_counts()\n",
    "plt.bar(['Basic', 'Intermediate', 'Advanced'], education_counts[['Basic', 'Intermediate', 'Advanced']], \n",
    "        edgecolor='black', alpha=0.7, width = 0.3, color = \"darkred\")\n",
    "plt.title('Distribution of Education Levels', fontsize=16)\n",
    "plt.xlabel('Education Level', fontsize=14)\n",
    "plt.ylabel('Frequency', fontsize=14)\n",
    "plt.xticks(rotation=45)\n",
    "plt.grid(axis='y', linestyle='--', alpha = 0.4)\n",
    "plt.tight_layout()\n",
    "plt.savefig(f\"{path}/slides_images/12_05_2025/education_level.png\")\n",
    "plt.show()"
   ]
  },
  {
   "cell_type": "markdown",
   "metadata": {},
   "source": [
    "# Density / count values plots\n",
    "***"
   ]
  },
  {
   "cell_type": "code",
   "execution_count": null,
   "metadata": {},
   "outputs": [],
   "source": [
    "plt.figure(figsize=(10, 6))\n",
    "plt.hist(revenues[\"Age\"], bins = 109,edgecolor='black', alpha=0.7, color = \"darkgreen\")\n",
    "plt.title('Distribution of Age', fontsize=16)\n",
    "plt.xlabel('Age', fontsize=14)\n",
    "plt.ylabel('Frequency', fontsize=14)\n",
    "plt.grid(axis='y', linestyle='--', alpha = 0.4)\n",
    "plt.tight_layout()\n",
    "plt.savefig(f\"{path}/slides_images/12_05_2025/age.png\")\n",
    "plt.show()"
   ]
  },
  {
   "cell_type": "markdown",
   "metadata": {},
   "source": [
    "# Boxplots of the revenues\n",
    "***"
   ]
  },
  {
   "cell_type": "code",
   "execution_count": null,
   "metadata": {},
   "outputs": [],
   "source": [
    "# Boxplots of the revenues\n",
    "plt.figure(figsize=(10, 4))\n",
    "plt.boxplot(revenues[\"Annual_Revenue_CHF\"], vert=False, patch_artist=True)\n",
    "plt.title('Boxplot of Annual Revenue', fontsize=16)\n",
    "plt.xlabel('Annual Revenue (CHF)', fontsize=14)\n",
    "plt.grid(axis='x', linestyle='--', alpha=0.4)\n",
    "plt.tight_layout()\n",
    "plt.savefig(f\"{path}/slides_images/12_05_2025/annual_revenue_boxplot.png\")\n",
    "plt.show()"
   ]
  },
  {
   "cell_type": "markdown",
   "metadata": {},
   "source": [
    "# Bar plots of the age regarding the family size\n",
    "***"
   ]
  },
  {
   "cell_type": "code",
   "execution_count": null,
   "metadata": {},
   "outputs": [],
   "source": [
    "plt.figure(figsize=(10, 6))\n",
    "plt.hist(revenues[\"Age\"][revenues[\"Family_Size\"] == \"No family\"], edgecolor='black', alpha=0.7)\n",
    "plt.hist(revenues[\"Age\"][revenues[\"Family_Size\"] == \"Small\"], edgecolor='black', alpha=0.7)\n",
    "plt.hist(revenues[\"Age\"][revenues[\"Family_Size\"] == \"Medium\"], edgecolor='black', alpha=0.7)\n",
    "plt.hist(revenues[\"Age\"][revenues[\"Family_Size\"] == \"Large\"], edgecolor='black', alpha=0.7)\n",
    "plt.title('Distribution of Age', fontsize=16)\n",
    "plt.legend(['No family', 'Small', 'Medium', 'Large'], fontsize=14)\n",
    "plt.xlabel('Age', fontsize=14)\n",
    "plt.ylabel('Frequency', fontsize=14)\n",
    "plt.grid(axis='y', linestyle='--', alpha = 0.4)\n",
    "plt.tight_layout()\n",
    "plt.savefig(f\"{path}/slides_images/12_05_2025/age_family_size.png\")\n",
    "plt.show()"
   ]
  },
  {
   "cell_type": "markdown",
   "metadata": {},
   "source": [
    "# Boxplots of the revenues regarding the education level\n",
    "***\n"
   ]
  },
  {
   "cell_type": "code",
   "execution_count": null,
   "metadata": {},
   "outputs": [],
   "source": [
    "# Boxplots of the revenues regarding the education level\n",
    "plt.figure(figsize=(10, 6))\n",
    "plt.boxplot([revenues[\"Annual_Revenue_CHF\"][revenues[\"Education_Level\"] == \"Basic\"], \n",
    "             revenues[\"Annual_Revenue_CHF\"][revenues[\"Education_Level\"] == \"Intermediate\"], \n",
    "             revenues[\"Annual_Revenue_CHF\"][revenues[\"Education_Level\"] == \"Advanced\"]], \n",
    "            labels = [\"Basic\", \"Intermediate\", \"Advanced\"], vert = False, notch=True)\n",
    "plt.title('Boxplot of Annual Revenue', fontsize=16)\n",
    "plt.ylabel('Education Level', fontsize=14)\n",
    "plt.xlabel('Annual Revenue (CHF)', fontsize=14)\n",
    "plt.grid(axis='y', linestyle='--', alpha = 0.4)\n",
    "plt.tight_layout()\n",
    "plt.savefig(f\"{path}/slides_images/12_05_2025/annual_revenue_vs_education_level_boxplot.png\")\n",
    "plt.show()"
   ]
  },
  {
   "cell_type": "markdown",
   "metadata": {},
   "source": [
    "# Scatter plots of the revenues regarding the ages with colors as family size\n",
    "***"
   ]
  },
  {
   "cell_type": "code",
   "execution_count": null,
   "metadata": {},
   "outputs": [],
   "source": [
    "# Scatter plots of the revenues regarding the ages with colors as family size\n",
    "plt.figure(figsize=(10, 6))\n",
    "\n",
    "# Create a dictionary to map family sizes to colors\n",
    "family_colors = {\n",
    "    'No family': 'blue',\n",
    "    'Small': 'green',\n",
    "    'Medium': 'orange',\n",
    "    'Large': 'red'\n",
    "}\n",
    "\n",
    "# Create a list of colors based on family size\n",
    "colors = [family_colors[size] for size in revenues[\"Family_Size\"]]\n",
    "\n",
    "# Create the scatter plot\n",
    "plt.scatter(revenues[\"Age\"], revenues[\"Annual_Revenue_CHF\"], \n",
    "            c=colors, alpha=0.5)\n",
    "\n",
    "# Add legend\n",
    "for family, color in family_colors.items():\n",
    "    plt.scatter([], [], c=color, label=family)\n",
    "plt.legend()\n",
    "\n",
    "plt.title('Scatter plot of Annual Revenue vs Age', fontsize=16)\n",
    "plt.xlabel('Age', fontsize=14)\n",
    "plt.ylabel('Annual Revenue (CHF)', fontsize=14)\n",
    "plt.grid(axis='y', linestyle='--', alpha=0.4)\n",
    "plt.tight_layout()  \n",
    "plt.savefig(f\"{path}/slides_images/12_05_2025/age_revenue_family_size.png\")\n",
    "plt.show()"
   ]
  },
  {
   "cell_type": "markdown",
   "metadata": {},
   "source": [
    "# Density plot of the revenues regarding the ages with colors as family size\n",
    "***"
   ]
  },
  {
   "cell_type": "code",
   "execution_count": null,
   "metadata": {},
   "outputs": [],
   "source": [
    "def plot_kde(rev, family_size, ax, color):\n",
    "   age_grid = np.linspace(rev[\"Age\"].min(), rev[\"Age\"].max(), 100)\n",
    "   revenue_grid = np.linspace(rev[\"Annual_Revenue_CHF\"].min(), rev[\"Annual_Revenue_CHF\"].max(), 100)\n",
    "   age_grid, revenue_grid = np.meshgrid(age_grid, revenue_grid)\n",
    "\n",
    "   # Calculate KDE\n",
    "   k = gaussian_kde([rev[\"Age\"], rev[\"Annual_Revenue_CHF\"]])\n",
    "   zi = k(np.vstack([age_grid.ravel(), revenue_grid.ravel()])).reshape(age_grid.shape)\n",
    "\n",
    "   # Green colormap\n",
    "   ax.pcolormesh(age_grid, revenue_grid, zi, cmap=color)\n",
    "   ax.set_title(family_size)\n",
    "   ax.set_xlabel('Age')\n",
    "   ax.set_ylabel('Annual Revenue (CHF)')\n",
    "   ax.set_xlim([rev[\"Age\"].min(), rev[\"Age\"].max()])\n",
    "   ax.set_ylim([rev[\"Annual_Revenue_CHF\"].min(), rev[\"Annual_Revenue_CHF\"].max()])\n",
    "\n",
    "   return ax\n",
    "\n",
    "\n",
    "# Create a grid of points for the KDE\n",
    "age_grid = np.linspace(revenues[\"Age\"].min(), revenues[\"Age\"].max(), 100)\n",
    "revenue_grid = np.linspace(revenues[\"Annual_Revenue_CHF\"].min(), revenues[\"Annual_Revenue_CHF\"].max(), 100)\n",
    "age_grid, revenue_grid = np.meshgrid(age_grid, revenue_grid)\n",
    "\n",
    "# Calculate KDE\n",
    "k = gaussian_kde([revenues[\"Age\"], revenues[\"Annual_Revenue_CHF\"]])\n",
    "zi = k(np.vstack([age_grid.ravel(), revenue_grid.ravel()])).reshape(age_grid.shape)\n",
    "\n",
    "# Create subplots\n",
    "fig, axs = plt.subplots(nrows=2, ncols=2, figsize=(10,6))\n",
    "\n",
    "# Green colormap\n",
    "axs[0,0] = plot_kde(revenues[revenues['Family_Size'] == 'No family'], 'No family', axs[0,0], \"Blues\")\n",
    "axs[0,1] = plot_kde(revenues[revenues['Family_Size'] == 'Small'], 'Small', axs[0,1], \"Greens\")\n",
    "axs[1,0] = plot_kde(revenues[revenues['Family_Size'] == 'Medium'], 'Medium', axs[1,0], \"Oranges\")\n",
    "axs[1,1] = plot_kde(revenues[revenues['Family_Size'] == 'Large'], 'Large', axs[1,1], \"Reds\")\n",
    "\n",
    "# Add colorbar to the first subplot\n",
    "plt.colorbar(axs[0,0].collections[0], ax=axs[0,0], label=\"Density\")\n",
    "plt.colorbar(axs[0,1].collections[0], ax=axs[0,1], label=\"Density\")\n",
    "plt.colorbar(axs[1,0].collections[0], ax=axs[1,0], label=\"Density\")\n",
    "plt.colorbar(axs[1,1].collections[0], ax=axs[1,1], label=\"Density\")\n",
    "\n",
    "plt.tight_layout()\n",
    "plt.savefig(f\"{path}/slides_images/12_05_2025/kde_plots.png\")\n",
    "plt.show()"
   ]
  },
  {
   "cell_type": "markdown",
   "metadata": {},
   "source": [
    "# Time series analysis\n",
    "***"
   ]
  },
  {
   "cell_type": "code",
   "execution_count": null,
   "metadata": {},
   "outputs": [],
   "source": [
    "bm = pd.read_csv(f'{path}/data/bm.csv')\n",
    "bm_noisy = pd.read_csv(f'{path}/data/bm_noisy.csv')\n",
    "bm_downsampled = pd.read_csv(f'{path}/data/bm_downsampled.csv')\n"
   ]
  },
  {
   "cell_type": "code",
   "execution_count": null,
   "metadata": {},
   "outputs": [],
   "source": [
    "plt.figure(figsize=(15, 10))  # Increased height to accommodate both subplots\n",
    "\n",
    "# First subplot\n",
    "plt.subplot(2, 1, 1)\n",
    "plt.plot(bm_noisy['time'], bm_noisy['signal'], label='Noisy', alpha=0.7)\n",
    "plt.plot(bm['time'], bm['signal'], label='Original', alpha=0.7)\n",
    "plt.title('Original vs Noisy Signal (Original Time)', fontsize=16)\n",
    "plt.xlabel('Time (s)', fontsize=14)\n",
    "plt.ylabel('Signal', fontsize=14)\n",
    "plt.legend()\n",
    "plt.grid(True, linestyle='--', alpha=0.5)\n",
    "\n",
    "# Second subplot\n",
    "plt.subplot(2, 1, 2)\n",
    "plt.plot(bm_noisy['time'] - 1, bm_noisy['signal'], label='Noisy', alpha=0.7)\n",
    "plt.plot(bm['time'], bm['signal'], label='Original', alpha=0.7)\n",
    "plt.title('Original vs Noisy Signal (Aligned Time)', fontsize=16)\n",
    "plt.xlabel('Time (s)', fontsize=14)\n",
    "plt.ylabel('Signal', fontsize=14)\n",
    "plt.legend()\n",
    "plt.grid(True, linestyle='--', alpha=0.5)\n",
    "\n",
    "plt.tight_layout()\n",
    "plt.savefig(f'{path}/slides_images/12_05_2025/original_vs_noisy.png')\n",
    "plt.show()"
   ]
  },
  {
   "cell_type": "code",
   "execution_count": null,
   "metadata": {},
   "outputs": [],
   "source": [
    "plt.figure(figsize=(15, 5))\n",
    "plt.plot(bm['time'], bm['signal'], label='Original')\n",
    "plt.plot(bm_downsampled['time'], bm_downsampled['signal'], label='Downsampled', color='red')\n",
    "plt.title('Original vs Downsampled Signal', fontsize=16)\n",
    "plt.xlabel('Time (s)', fontsize=14)\n",
    "plt.ylabel('Signal', fontsize=14)\n",
    "plt.legend()\n",
    "plt.grid(True, linestyle='--', alpha=0.5)\n",
    "plt.tight_layout()\n",
    "plt.savefig(f'{path}/slides_images/12_05_2025/original_vs_downsampled.png')\n",
    "plt.show()"
   ]
  },
  {
   "cell_type": "code",
   "execution_count": null,
   "metadata": {},
   "outputs": [],
   "source": []
  }
 ],
 "metadata": {
  "kernelspec": {
   "display_name": "nat_ada",
   "language": "python",
   "name": "python3"
  },
  "language_info": {
   "codemirror_mode": {
    "name": "ipython",
    "version": 3
   },
   "file_extension": ".py",
   "mimetype": "text/x-python",
   "name": "python",
   "nbconvert_exporter": "python",
   "pygments_lexer": "ipython3",
   "version": "3.13.2"
  }
 },
 "nbformat": 4,
 "nbformat_minor": 2
}
