{
 "cells": [
  {
   "cell_type": "code",
   "execution_count": null,
   "metadata": {},
   "outputs": [],
   "source": [
    "import numpy as np\n",
    "import pandas as pd\n",
    "import matplotlib.pyplot as plt\n",
    "import scipy.stats as stats\n",
    "import seaborn as sns\n",
    "\n",
    "from sklearn.datasets import load_breast_cancer\n",
    "from sklearn.feature_selection import mutual_info_regression\n",
    "\n",
    "# Autoreload of the files\n",
    "%load_ext autoreload\n",
    "%autoreload 2"
   ]
  },
  {
   "cell_type": "code",
   "execution_count": null,
   "metadata": {},
   "outputs": [],
   "source": [
    "path = '/Users/gaspardvilla/Local/NAT/nat_ada/data'\n",
    "\n",
    "# Load dataset\n",
    "data = pd.read_csv(f'{path}/knn_dataset.csv')\n",
    "random_state = 4"
   ]
  },
  {
   "cell_type": "markdown",
   "metadata": {},
   "source": [
    "# 1 - Quick EDA\n",
    "***\n",
    "\n",
    "**Question :** Visualize your data set in a proper way."
   ]
  },
  {
   "cell_type": "code",
   "execution_count": null,
   "metadata": {},
   "outputs": [],
   "source": [
    "# Visualization\n",
    "plt.figure(figsize=(10,10))\n",
    "plt.scatter(data['coord_x'], data['coord_y'], c=data['target'], cmap='viridis')\n",
    "plt.show()\n"
   ]
  },
  {
   "cell_type": "markdown",
   "metadata": {},
   "source": [
    "**Question :** Split your data set into train, validation and test sets. (PS: there is a function in sklearn doing it for you)."
   ]
  },
  {
   "cell_type": "code",
   "execution_count": null,
   "metadata": {},
   "outputs": [],
   "source": [
    "# Split your data set in train, validation and test sets\n",
    "from sklearn.model_selection import train_test_split\n",
    "\n",
    "X = data[['coord_x', 'coord_y']]\n",
    "y = data['target']\n",
    "X_train, X_test, y_train, y_test = train_test_split(X, y, test_size=0.2, random_state=random_state)\n",
    "X_train, X_val, y_train, y_val = train_test_split(X_train, y_train, test_size=0.25, random_state=random_state)\n",
    "\n",
    "\n",
    "print(len(X_train[(X_train.coord_y < 0.1) & y_train == 1]))\n",
    "print(len(X_val[(X_val.coord_y < 0.1) & y_val == 1]))\n",
    "print(len(X_test[(X_test.coord_y < 0.1) & y_test == 1]))"
   ]
  },
  {
   "cell_type": "code",
   "execution_count": null,
   "metadata": {},
   "outputs": [],
   "source": [
    "print(f'Train : {len(X_train)} / Validation : {len(X_val)} / Test : {len(X_test)}')"
   ]
  },
  {
   "cell_type": "markdown",
   "metadata": {},
   "source": [
    "# 2 - Train a KNN model\n",
    "***\n",
    "\n",
    "**Question :** Build a KNN model using the sklearn library and the train set. Use the validation set to find the best hyperparameters. "
   ]
  },
  {
   "cell_type": "code",
   "execution_count": null,
   "metadata": {},
   "outputs": [],
   "source": [
    "# Build and train your model\n",
    "from sklearn.neighbors import KNeighborsClassifier\n",
    "\n",
    "model = KNeighborsClassifier(n_neighbors=3)\n",
    "model.fit(X_train, y_train)\n"
   ]
  },
  {
   "cell_type": "markdown",
   "metadata": {},
   "source": [
    "# 2 - Test your model\n",
    "***\n",
    "\n",
    "**Question :** Test your \"best\" performing model on the test set with the proper metrics."
   ]
  },
  {
   "cell_type": "code",
   "execution_count": null,
   "metadata": {},
   "outputs": [],
   "source": [
    "from sklearn.metrics import accuracy_score\n",
    "\n",
    "# Test your model\n",
    "test_set = pd.read_csv(f'{path}/knn_testset.csv')\n",
    "\n",
    "X_test = test_set[['coord_x', 'coord_y']]\n",
    "y_test = test_set['target']\n",
    "\n",
    "y_pred = model.predict(X_test)\n",
    "\n",
    "# Accuracy\n",
    "print(\"Accuracy: \", accuracy_score(y_test, y_pred))\n"
   ]
  },
  {
   "cell_type": "code",
   "execution_count": null,
   "metadata": {},
   "outputs": [],
   "source": [
    "# Display preds\n",
    "plt.scatter(X_test['coord_x'], X_test['coord_y'], c=y_pred)\n",
    "plt.xlim(9.5, 10)\n",
    "plt.ylim(0, 0.1)\n",
    "plt.show()\n"
   ]
  },
  {
   "cell_type": "code",
   "execution_count": null,
   "metadata": {},
   "outputs": [],
   "source": []
  }
 ],
 "metadata": {
  "kernelspec": {
   "display_name": "nat_ada",
   "language": "python",
   "name": "python3"
  },
  "language_info": {
   "codemirror_mode": {
    "name": "ipython",
    "version": 3
   },
   "file_extension": ".py",
   "mimetype": "text/x-python",
   "name": "python",
   "nbconvert_exporter": "python",
   "pygments_lexer": "ipython3",
   "version": "3.13.2"
  }
 },
 "nbformat": 4,
 "nbformat_minor": 2
}
