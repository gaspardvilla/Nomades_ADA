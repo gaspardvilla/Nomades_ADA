{
 "cells": [
  {
   "cell_type": "code",
   "execution_count": 1,
   "metadata": {},
   "outputs": [],
   "source": [
    "import numpy as np\n",
    "import pandas as pd\n",
    "import matplotlib.pyplot as plt\n",
    "\n",
    "# Autoreload of the files\n",
    "%load_ext autoreload\n",
    "%autoreload 2"
   ]
  },
  {
   "cell_type": "code",
   "execution_count": 2,
   "metadata": {},
   "outputs": [],
   "source": [
    "path = '/Users/gaspardvilla/Local/NAT/nat_ada/data'"
   ]
  },
  {
   "cell_type": "markdown",
   "metadata": {},
   "source": [
    "***Question 1*** : Load the data set \"boston_houses_data.csv\" and get a short overview using pandas funcions as head, describe, info, etc..."
   ]
  },
  {
   "cell_type": "code",
   "execution_count": 3,
   "metadata": {},
   "outputs": [
    {
     "name": "stdout",
     "output_type": "stream",
     "text": [
      "       garden_size  distance_downtown_km   surface_m2       floors  \\\n",
      "count  3000.000000           3000.000000  3000.000000  3000.000000   \n",
      "mean     35.768380              5.911780    67.855038     1.761333   \n",
      "std     226.353997             22.453649    81.294220     0.889926   \n",
      "min       0.000000              0.154375    40.000000     1.000000   \n",
      "25%       0.000000              1.096976    40.000000     1.000000   \n",
      "50%       0.335450              2.051507    40.000000     2.000000   \n",
      "75%       3.971340              4.322591    52.801217     2.000000   \n",
      "max    4834.219291            485.617073   500.000000     4.000000   \n",
      "\n",
      "          has_pool         price  \n",
      "count  3000.000000  3.000000e+03  \n",
      "mean      0.053333  4.603097e+05  \n",
      "std       0.224735  3.623333e+05  \n",
      "min       0.000000  3.000000e+05  \n",
      "25%       0.000000  3.250000e+05  \n",
      "50%       0.000000  3.670000e+05  \n",
      "75%       0.000000  4.240000e+05  \n",
      "max       1.000000  3.000000e+06  \n"
     ]
    }
   ],
   "source": [
    "# Load and overview the data\n",
    "houses = pd.read_csv('../data/boston_houses_data.csv')\n",
    "print(houses.describe())"
   ]
  },
  {
   "cell_type": "code",
   "execution_count": 4,
   "metadata": {},
   "outputs": [
    {
     "data": {
      "image/png": "[encoded data removed]",
      "text/plain": [
       "<Figure size 640x480 with 1 Axes>"
      ]
     },
     "metadata": {},
     "output_type": "display_data"
    }
   ],
   "source": [
    "houses.price.plot.hist(bins=50)\n",
    "plt.show()"
   ]
  },
  {
   "cell_type": "markdown",
   "metadata": {},
   "source": [
    "# Univariate analysis\n",
    "***\n",
    "\n",
    "### Histograms\n",
    "***Question 2*** : Identify the categorical variables and plot their histograms."
   ]
  },
  {
   "cell_type": "code",
   "execution_count": null,
   "metadata": {},
   "outputs": [],
   "source": [
    "# Histograms on the categorical variables\n",
    "# - Code here - #\n"
   ]
  },
  {
   "cell_type": "markdown",
   "metadata": {},
   "source": [
    "### Density / distribution plots\n",
    "\n",
    "***Question 3*** : Identify continuous attributes on the data set and plot the distribution of each of them."
   ]
  },
  {
   "cell_type": "code",
   "execution_count": null,
   "metadata": {},
   "outputs": [],
   "source": [
    "# Distributions of the continuous features\n",
    "# - Code here - #"
   ]
  },
  {
   "cell_type": "markdown",
   "metadata": {},
   "source": [
    "### Boxplots\n",
    "\n",
    "***Question 4*** : Create boxplots for the house prices, the distance from downtown and the garden size.\n"
   ]
  },
  {
   "cell_type": "code",
   "execution_count": null,
   "metadata": {},
   "outputs": [],
   "source": [
    "# Boxplots of the house prices\n",
    "# - Code here - #"
   ]
  },
  {
   "cell_type": "code",
   "execution_count": null,
   "metadata": {},
   "outputs": [],
   "source": [
    "# Boxplots of the distance from downtown\n",
    "# - Code here - #"
   ]
  },
  {
   "cell_type": "code",
   "execution_count": null,
   "metadata": {},
   "outputs": [],
   "source": [
    "# Boxplots of the garden size\n",
    "# - Code here - #"
   ]
  },
  {
   "cell_type": "markdown",
   "metadata": {},
   "source": [
    "# Multivariate analysis\n",
    "***\n",
    "\n",
    "***Question 5*** : Perform a multivariate analysis. How would you use all the different plots presented in the slide to get a better understanding of the data?\n",
    "\n",
    "*Hint :* Select two variables, check is they are continuous or categorical, and use the appropriate plot.\n",
    "\n",
    "*Hint 2:* Here are some classic plots:\n",
    "* Categorical boxplot (categorical vs continuous)\n",
    "* Scatterplot (continuous vs continuous)\n",
    "* Categorical histogram (categorical vs continuous)\n",
    "* Colored scatterplot (continuous vs continuous vs categorical)\n",
    "\n",
    "\n"
   ]
  },
  {
   "cell_type": "code",
   "execution_count": null,
   "metadata": {},
   "outputs": [],
   "source": [
    "# - Code here - #"
   ]
  }
 ],
 "metadata": {
  "kernelspec": {
   "display_name": "nat_ada",
   "language": "python",
   "name": "python3"
  },
  "language_info": {
   "codemirror_mode": {
    "name": "ipython",
    "version": 3
   },
   "file_extension": ".py",
   "mimetype": "text/x-python",
   "name": "python",
   "nbconvert_exporter": "python",
   "pygments_lexer": "ipython3",
   "version": "3.13.2"
  }
 },
 "nbformat": 4,
 "nbformat_minor": 2
}
