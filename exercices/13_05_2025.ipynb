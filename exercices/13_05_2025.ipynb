{
 "cells": [
  {
   "cell_type": "code",
   "execution_count": 4,
   "metadata": {},
   "outputs": [],
   "source": [
    "import numpy as np\n",
    "import pandas as pd\n",
    "import scipy.stats as stats\n",
    "import matplotlib.pyplot as plt\n",
    "from matplotlib.widgets import Slider\n",
    "\n",
    "# Autoreload of the files\n",
    "%load_ext autoreload\n",
    "%autoreload 2"
   ]
  },
  {
   "cell_type": "code",
   "execution_count": 5,
   "metadata": {},
   "outputs": [],
   "source": [
    "np.random.seed(45)"
   ]
  },
  {
   "cell_type": "markdown",
   "metadata": {},
   "source": [
    "# Binomial distribution \n",
    "***\n",
    "\n",
    "*Question 1 :* Generate a binomial distribution and plot it"
   ]
  },
  {
   "cell_type": "code",
   "execution_count": 6,
   "metadata": {},
   "outputs": [
    {
     "data": {
      "image/png": "[encoded data removed]",
      "text/plain": [
       "<Figure size 640x480 with 2 Axes>"
      ]
     },
     "metadata": {},
     "output_type": "display_data"
    }
   ],
   "source": [
    "# Initial parameters\n",
    "n = 10\n",
    "p_init = 0.9\n",
    "size = 1000\n",
    "\n",
    "# Initial data\n",
    "variables = stats.binom.rvs(n=n, p=p_init, size=size)\n",
    "\n",
    "fig, ax = plt.subplots()\n",
    "plt.subplots_adjust(bottom=0.25)  # Make space for slider\n",
    "\n",
    "# Initial histogram\n",
    "hist = ax.hist(variables, bins=10, density=True, alpha=0.5, \n",
    "               color='darkgreen', label='Simulated Data')\n",
    "ax.set_title(f'Binomial Distribution (p={p_init:.2f})')\n",
    "ax.set_xlabel('Number of Successes')\n",
    "ax.set_ylabel('Density')\n",
    "ax.legend()\n",
    "\n",
    "# Slider axis: [left, bottom, width, height]\n",
    "ax_p = plt.axes([0.2, 0.1, 0.65, 0.03])\n",
    "slider_p = Slider(ax_p, 'p', 0.0, 1.0, valinit=p_init, valstep=0.01)\n",
    "\n",
    "def update(val):\n",
    "    p = slider_p.val\n",
    "    ax.clear()\n",
    "    variables = stats.binom.rvs(n=n, p=p, size=size)\n",
    "    ax.hist(variables, bins=10, density=True, alpha=0.5, \n",
    "            color='darkgreen', label='Simulated Data')\n",
    "    ax.set_title(f'Binomial Distribution (p={p:.2f})')\n",
    "    ax.set_xlabel('Number of Successes')\n",
    "    ax.set_ylabel('Density')\n",
    "    ax.legend()\n",
    "    fig.canvas.draw_idle()\n",
    "\n",
    "slider_p.on_changed(update)\n",
    "\n",
    "plt.show()"
   ]
  },
  {
   "cell_type": "code",
   "execution_count": null,
   "metadata": {},
   "outputs": [],
   "source": [
    "variables = stats.binom.rvs(n = 10, p = 0.7, size = 10000)\n",
    "plt.hist(variables, bins = 10, density = True, alpha = 0.5, \n",
    "         color = 'darkgreen', label = 'Simulated Data')\n",
    "plt.show()"
   ]
  },
  {
   "cell_type": "markdown",
   "metadata": {},
   "source": [
    "# Geometric distribution \n",
    "***\n",
    "\n",
    "*Question 2 :* Generate a geometric distribution and plot it"
   ]
  },
  {
   "cell_type": "code",
   "execution_count": null,
   "metadata": {},
   "outputs": [],
   "source": []
  },
  {
   "cell_type": "markdown",
   "metadata": {},
   "source": [
    "# Uniform distribution \n",
    "***\n",
    "\n",
    "*Question 3 :* Generate a uniform distribution and plot it"
   ]
  },
  {
   "cell_type": "code",
   "execution_count": null,
   "metadata": {},
   "outputs": [],
   "source": []
  },
  {
   "cell_type": "markdown",
   "metadata": {},
   "source": [
    "# Normal distribution \n",
    "***\n",
    "\n",
    "*Question 4 :* Generate a normal distribution and plot it"
   ]
  },
  {
   "cell_type": "code",
   "execution_count": null,
   "metadata": {},
   "outputs": [],
   "source": []
  },
  {
   "cell_type": "markdown",
   "metadata": {},
   "source": [
    "# Exponential distribution \n",
    "***\n",
    "\n",
    "*Question 5 :* Generate a exponential distribution and plot it"
   ]
  },
  {
   "cell_type": "code",
   "execution_count": null,
   "metadata": {},
   "outputs": [],
   "source": []
  },
  {
   "cell_type": "markdown",
   "metadata": {},
   "source": [
    "*Question 6 :* Generate a multiple exponential distributions with different number of sample and different parameters."
   ]
  },
  {
   "cell_type": "code",
   "execution_count": null,
   "metadata": {},
   "outputs": [],
   "source": []
  }
 ],
 "metadata": {
  "kernelspec": {
   "display_name": "nat_ada",
   "language": "python",
   "name": "python3"
  },
  "language_info": {
   "codemirror_mode": {
    "name": "ipython",
    "version": 3
   },
   "file_extension": ".py",
   "mimetype": "text/x-python",
   "name": "python",
   "nbconvert_exporter": "python",
   "pygments_lexer": "ipython3",
   "version": "3.13.2"
  }
 },
 "nbformat": 4,
 "nbformat_minor": 2
}
