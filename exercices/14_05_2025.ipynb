{
 "cells": [
  {
   "cell_type": "code",
   "execution_count": null,
   "metadata": {},
   "outputs": [],
   "source": [
    "import numpy as np\n",
    "import pandas as pd\n",
    "import matplotlib.pyplot as plt\n",
    "\n",
    "# Autoreload of the files\n",
    "%load_ext autoreload\n",
    "%autoreload 2"
   ]
  },
  {
   "cell_type": "code",
   "execution_count": null,
   "metadata": {},
   "outputs": [],
   "source": [
    "path = 'path/to/data'"
   ]
  },
  {
   "cell_type": "markdown",
   "metadata": {},
   "source": [
    "# Exercise 1: Quality Control in Manufacturing\n",
    "***\n",
    "\n",
    "A machine is supposed to fill bottles with 500 ml of soda. The company knows from long-term data that the population standard deviation is 5 ml.\n",
    "\n",
    "A random sample of 40 bottles yields an average of 498.5 ml. \\\n",
    "\t•\tH₀: μ = 500 \\\n",
    "\t•\tH₁: μ ≠ 500 \\\n",
    "\t•\tα = 0.05 \n",
    "\n",
    "👉 Task: Perform a Z-test to determine if the machine is underfilling bottles."
   ]
  },
  {
   "cell_type": "code",
   "execution_count": null,
   "metadata": {},
   "outputs": [],
   "source": []
  },
  {
   "cell_type": "markdown",
   "metadata": {},
   "source": [
    "# Exercise 2: Exam Scores Analysis\n",
    "\n",
    "Historically, a standardized test has an average score of 100 and σ = 15. A teacher believes her class performed differently. She takes a random sample of 36 students and finds a mean score of 104. \\\n",
    "\t•\tH₀: μ = 100 \\\n",
    "\t•\tH₁: μ ≠ 100 \\\n",
    "\t•\tα = 0.01\n",
    "\n",
    "👉 Task: Test the teacher’s claim using a two-tailed Z-test.\n"
   ]
  },
  {
   "cell_type": "code",
   "execution_count": null,
   "metadata": {},
   "outputs": [],
   "source": []
  }
 ],
 "metadata": {
  "kernelspec": {
   "display_name": "nat_ada",
   "language": "python",
   "name": "python3"
  },
  "language_info": {
   "codemirror_mode": {
    "name": "ipython",
    "version": 3
   },
   "file_extension": ".py",
   "mimetype": "text/x-python",
   "name": "python",
   "nbconvert_exporter": "python",
   "pygments_lexer": "ipython3",
   "version": "3.13.2"
  }
 },
 "nbformat": 4,
 "nbformat_minor": 2
}
