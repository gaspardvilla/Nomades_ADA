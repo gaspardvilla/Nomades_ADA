{
 "cells": [
  {
   "cell_type": "code",
   "execution_count": 4,
   "metadata": {},
   "outputs": [
    {
     "name": "stdout",
     "output_type": "stream",
     "text": [
      "The autoreload extension is already loaded. To reload it, use:\n",
      "  %reload_ext autoreload\n"
     ]
    }
   ],
   "source": [
    "import numpy as np\n",
    "import pandas as pd\n",
    "import matplotlib.pyplot as plt\n",
    "import scipy.stats as stats\n",
    "\n",
    "# Autoreload of the files\n",
    "%load_ext autoreload\n",
    "%autoreload 2"
   ]
  },
  {
   "cell_type": "code",
   "execution_count": 5,
   "metadata": {},
   "outputs": [],
   "source": [
    "path = 'data'"
   ]
  },
  {
   "cell_type": "markdown",
   "metadata": {},
   "source": [
    "# Exercise 1: Quality Control in Manufacturing\n",
    "***\n",
    "\n",
    "A machine is supposed to fill bottles with 500 ml of soda. The company knows from long-term data that the population standard deviation is 5 ml.\n",
    "\n",
    "A random sample of 40 bottles yields an average of 498.5 ml. \\\n",
    "\t•\tH₀: μ = 500 \\\n",
    "\t•\tH₁: μ ≠ 500 \\\n",
    "\t•\tα = 0.05 \n",
    "\n",
    "👉 Task: Perform a Z-test to determine if the machine is underfilling bottles."
   ]
  },
  {
   "cell_type": "code",
   "execution_count": 8,
   "metadata": {},
   "outputs": [
    {
     "name": "stdout",
     "output_type": "stream",
     "text": [
      "Z-score: -1.897\n",
      "Critical Z-value: ±1.960\n",
      "p-value: 0.0578\n",
      "Fail to reject H₀: No evidence that the machine is underfilling the bottles.\n"
     ]
    }
   ],
   "source": [
    "# Given data\n",
    "mu_0 = 500\n",
    "x_bar = 498.5\n",
    "sigma = 5\n",
    "n = 40\n",
    "alpha = 0.05\n",
    "\n",
    "# Calculate Z-score\n",
    "z_score = (x_bar - mu_0) / (sigma / np.sqrt(n))\n",
    "\n",
    "# Calculate p-value (two-tailed)\n",
    "p_value = 2 * stats.norm.cdf(-abs(z_score))\n",
    "\n",
    "# Critical Z-value\n",
    "z_critical = stats.norm.ppf(1 - alpha/2)\n",
    "\n",
    "# Print results\n",
    "print(f\"Z-score: {z_score:.3f}\")\n",
    "print(f\"Critical Z-value: ±{z_critical:.3f}\")\n",
    "print(f\"p-value: {p_value:.4f}\")\n",
    "\n",
    "if abs(z_score) > z_critical:\n",
    "    print(\"Reject H₀: The machine is underfilling the bottles.\")\n",
    "else:\n",
    "    print(\"Fail to reject H₀: No evidence that the machine is underfilling the bottles.\")"
   ]
  },
  {
   "cell_type": "code",
   "execution_count": null,
   "metadata": {},
   "outputs": [],
   "source": [
    "p_value = 2 * stats.norm.cdf(-abs(z_score))\n",
    "p_value = 2 * (1 - stats.norm.cdf(abs(z_score)))"
   ]
  },
  {
   "cell_type": "markdown",
   "metadata": {},
   "source": [
    "# Exercise 2: Exam Scores Analysis\n",
    "\n",
    "Historically, a standardized test has an average score of 100 and σ = 15. A teacher believes her class performed differently. She takes a random sample of 36 students and finds a mean score of 104. \\\n",
    "\t•\tH₀: μ = 100 \\\n",
    "\t•\tH₁: μ ≠ 100 \\\n",
    "\t•\tα = 0.01\n",
    "\n",
    "👉 Task: Test the teacher’s claim using a two-tailed Z-test.\n"
   ]
  },
  {
   "cell_type": "code",
   "execution_count": 7,
   "metadata": {},
   "outputs": [
    {
     "name": "stdout",
     "output_type": "stream",
     "text": [
      "Z-score: 1.600\n",
      "Critical Z-value: ±2.576\n",
      "p-value: 0.1096\n",
      "Fail to reject H₀: No evidence of significant difference in performance.\n"
     ]
    }
   ],
   "source": [
    "# Given data\n",
    "mu_0 = 100\n",
    "x_bar = 104\n",
    "sigma = 15\n",
    "n = 36\n",
    "alpha = 0.01\n",
    "\n",
    "# Calculate Z-score\n",
    "z_score = (x_bar - mu_0) / (sigma / np.sqrt(n))\n",
    "\n",
    "# Calculate p-value (two-tailed)\n",
    "p_value = 2 * (1 - stats.norm.cdf(abs(z_score)))\n",
    "\n",
    "# Critical Z-value\n",
    "z_critical = stats.norm.ppf(1 - alpha/2)\n",
    "\n",
    "# Print results\n",
    "print(f\"Z-score: {z_score:.3f}\")\n",
    "print(f\"Critical Z-value: ±{z_critical:.3f}\")\n",
    "print(f\"p-value: {p_value:.4f}\")\n",
    "\n",
    "if abs(z_score) > z_critical:\n",
    "    print(\"Reject H₀: The class performed significantly differently.\")\n",
    "else:\n",
    "    print(\"Fail to reject H₀: No evidence of significant difference in performance.\")"
   ]
  },
  {
   "cell_type": "code",
   "execution_count": null,
   "metadata": {},
   "outputs": [],
   "source": []
  }
 ],
 "metadata": {
  "kernelspec": {
   "display_name": "nat_ada",
   "language": "python",
   "name": "python3"
  },
  "language_info": {
   "codemirror_mode": {
    "name": "ipython",
    "version": 3
   },
   "file_extension": ".py",
   "mimetype": "text/x-python",
   "name": "python",
   "nbconvert_exporter": "python",
   "pygments_lexer": "ipython3",
   "version": "3.13.2"
  }
 },
 "nbformat": 4,
 "nbformat_minor": 2
}
