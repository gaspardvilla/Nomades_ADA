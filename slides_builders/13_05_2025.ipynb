{
 "cells": [
  {
   "cell_type": "code",
   "execution_count": null,
   "metadata": {},
   "outputs": [],
   "source": [
    "import os\n",
    "import numpy as np\n",
    "import pandas as pd\n",
    "import matplotlib.pyplot as plt\n",
    "from scipy.stats import gaussian_kde, binom, norm\n",
    "\n",
    "# Autoreload of the files\n",
    "%load_ext autoreload\n",
    "%autoreload 2"
   ]
  },
  {
   "cell_type": "code",
   "execution_count": null,
   "metadata": {},
   "outputs": [],
   "source": [
    "path = '/Users/gaspardvilla/Local/NAT/nat_ada'\n",
    "# Create the data folder if it doesn't exist\n",
    "os.makedirs(path, exist_ok=True)\n",
    "os.makedirs(f\"{path}/slides_images\", exist_ok=True)\n",
    "os.makedirs(f\"{path}/slides_images/13_05_2025\", exist_ok=True)"
   ]
  },
  {
   "cell_type": "markdown",
   "metadata": {},
   "source": [
    "# Binomial distribution\n",
    "***"
   ]
  },
  {
   "cell_type": "code",
   "execution_count": null,
   "metadata": {},
   "outputs": [],
   "source": [
    "# Parameters\n",
    "n = 10  # number of trials\n",
    "p = 0.5  # probability of success\n",
    "x = np.arange(0, n+1)  # possible number of successes\n",
    "\n",
    "# Calculate CDF\n",
    "cdf = binom.cdf(x, n, p)\n",
    "\n",
    "# Plot\n",
    "plt.figure(figsize=(10, 6))\n",
    "# plt.step(x, cdf, where='post', label=f'Binomial CDF (n={n}, p={p})', color='blue')\n",
    "plt.scatter(x, cdf, color='darkblue', zorder=5)  # points at each step\n",
    "plt.title('Cumulative Distribution Function (CDF) of Binomial Distribution')\n",
    "plt.xlabel('Number of Successes')\n",
    "plt.ylabel('Cumulative Probability')\n",
    "plt.xticks(x)\n",
    "plt.grid(True, alpha=0.3)\n",
    "plt.legend()\n",
    "plt.savefig(f'{path}/slides_images/13_05_2025/binom_cdf.png')\n",
    "plt.show()"
   ]
  },
  {
   "cell_type": "markdown",
   "metadata": {},
   "source": [
    "# Normal distribution\n",
    "***"
   ]
  },
  {
   "cell_type": "code",
   "execution_count": null,
   "metadata": {},
   "outputs": [],
   "source": [
    "# Normal distribution\n",
    "mu = [0, 0, 0, -2]\n",
    "sigma = np.sqrt(np.array([0.2, 1, 5, 0.5]))\n",
    "x = np.linspace(-10, 10, 100)\n",
    "\n",
    "\n",
    "\n",
    "plt.figure(figsize=(10, 6))\n",
    "plt.title('4 random variables generated from normal distribution')\n",
    "plt.xlabel('x')\n",
    "plt.ylabel('PDF')\n",
    "plt.grid(True, alpha=0.3)\n",
    "for i in range(len(mu)):\n",
    "    plt.plot(x, norm.pdf(x, mu[i], sigma[i]))\n",
    "plt.xlim(-7.5, 7.5)\n",
    "plt.legend(['mu=0, sigma=1', 'mu=0, sigma=3', 'mu=0, sigma=5', 'mu=-2, sigma=1'])\n",
    "plt.savefig(f'{path}/slides_images/13_05_2025/normal_distribution.png')\n",
    "plt.show()\n"
   ]
  },
  {
   "cell_type": "code",
   "execution_count": null,
   "metadata": {},
   "outputs": [],
   "source": []
  }
 ],
 "metadata": {
  "kernelspec": {
   "display_name": "nat_ada",
   "language": "python",
   "name": "python3"
  },
  "language_info": {
   "codemirror_mode": {
    "name": "ipython",
    "version": 3
   },
   "file_extension": ".py",
   "mimetype": "text/x-python",
   "name": "python",
   "nbconvert_exporter": "python",
   "pygments_lexer": "ipython3",
   "version": "3.13.2"
  }
 },
 "nbformat": 4,
 "nbformat_minor": 2
}
