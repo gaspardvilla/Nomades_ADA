{
 "cells": [
  {
   "cell_type": "code",
   "execution_count": 2,
   "metadata": {},
   "outputs": [],
   "source": [
    "# Imports\n",
    "import pandas as pd\n",
    "import numpy as np\n",
    "import matplotlib.pyplot as plt\n",
    "import scipy.stats as stats\n",
    "import random"
   ]
  },
  {
   "cell_type": "markdown",
   "metadata": {},
   "source": [
    "# Workspace for the in-course exercises\n",
    "***"
   ]
  },
  {
   "cell_type": "code",
   "execution_count": 3,
   "metadata": {},
   "outputs": [],
   "source": [
    "# Your code here"
   ]
  },
  {
   "cell_type": "markdown",
   "metadata": {},
   "source": [
    "# Exercises for Wednesday\n",
    "***\n",
    "# Exercise 1: Quality Control in Manufacturing\n",
    "\n",
    "A machine is supposed to fill bottles with 500 ml of soda. The company knows from long-term data that the population standard deviation is 5 ml.\n",
    "\n",
    "A random sample of 40 bottles yields an average of 498.5 ml.\n",
    "- H0: mu = 500\n",
    "- H1: mu ≠ 500\n",
    "- alpha = 0.05 \n",
    "\n",
    "**Question :** Perform a Z-test to determine if the machine is underfilling bottles."
   ]
  },
  {
   "cell_type": "code",
   "execution_count": 4,
   "metadata": {},
   "outputs": [],
   "source": [
    "# Your code here"
   ]
  },
  {
   "cell_type": "markdown",
   "metadata": {},
   "source": [
    "***\n",
    "# Exercise 2: Exam Scores Analysis\n",
    "\n",
    "Historically, a standardized test has an average score of 100 and sigma = 15. A teacher believes her class performed differently. She takes a random sample of 36 students and finds a mean score of 104. \n",
    "- H0: mu = 100\n",
    "- H1: mu ≠ 100\n",
    "- alpha = 0.01\n",
    "\n",
    "**Question :** Test the teacher’s claim using a two-tailed Z-test.\n"
   ]
  },
  {
   "cell_type": "code",
   "execution_count": 5,
   "metadata": {},
   "outputs": [],
   "source": [
    "# Your code here"
   ]
  },
  {
   "cell_type": "markdown",
   "metadata": {},
   "source": [
    "***\n",
    "# Exercise 3: Drug Effectiveness Study\n",
    "\n",
    "A pharmaceutical company claims their new drug reduces blood pressure by an average of 10 mmHg. A clinical trial with 50 patients shows an average reduction of 8.5 mmHg with a sample standard deviation of 3.2 mmHg.\n",
    "- H0: mu = 10\n",
    "- H1: mu < 10\n",
    "- alpha = 0.05\n",
    "\n",
    "**Question:** Perform a t-test to determine if the drug is less effective than claimed.\n"
   ]
  },
  {
   "cell_type": "code",
   "execution_count": 6,
   "metadata": {},
   "outputs": [],
   "source": [
    "# Your code here\n"
   ]
  },
  {
   "cell_type": "markdown",
   "metadata": {},
   "source": [
    "***\n",
    "# Exercise 4: Customer Satisfaction Survey\n",
    "\n",
    "A restaurant chain claims 80% of customers are satisfied. A random survey of 200 customers shows 150 are satisfied.\n",
    "- H0: p = 0.80\n",
    "- H1: p ≠ 0.80\n",
    "- alpha = 0.05\n",
    "\n",
    "**Question:** Test the restaurant's claim using a proportion test.\n"
   ]
  },
  {
   "cell_type": "code",
   "execution_count": 7,
   "metadata": {},
   "outputs": [],
   "source": [
    "# Your code here\n"
   ]
  },
  {
   "cell_type": "markdown",
   "metadata": {},
   "source": [
    "***\n",
    "# Exercise 5: Battery Life Comparison\n",
    "\n",
    "A smartphone manufacturer claims their batteries last 24 hours on average. A sample of 30 phones shows a mean battery life of 22.5 hours with a standard deviation of 2.8 hours.\n",
    "- H0: mu = 24\n",
    "- H1: mu < 24\n",
    "- alpha = 0.01\n",
    "\n",
    "**Question:** Determine if the battery life is significantly less than claimed.\n"
   ]
  },
  {
   "cell_type": "code",
   "execution_count": 8,
   "metadata": {},
   "outputs": [],
   "source": [
    "# Your code here"
   ]
  },
  {
   "cell_type": "markdown",
   "metadata": {},
   "source": [
    "***\n",
    "# Exercise 6: Website Conversion Rate\n",
    "\n",
    "An e-commerce site claims their conversion rate is 3.5% (meaning that 35 persons out of 1000 make a purchase when visiting the website in average). After implementing a new design, they track 1000 visitors and find 42 made purchases.\n",
    "- H0: p = 0.035\n",
    "- H1: p > 0.035\n",
    "- alpha = 0.05\n",
    "\n",
    "**Question:** Test if the new design improved conversion rates.\n"
   ]
  },
  {
   "cell_type": "code",
   "execution_count": 9,
   "metadata": {},
   "outputs": [],
   "source": [
    "# Your code here\n"
   ]
  },
  {
   "cell_type": "markdown",
   "metadata": {},
   "source": [
    "***\n",
    "# Exercise 7: Manufacturing Process Control\n",
    "\n",
    "A factory produces bolts with a target diameter of 12mm. The population standard deviation is known to be 0.5mm. A sample of 25 bolts has a mean diameter of 12.3mm.\n",
    "- H0: mu = 12\n",
    "- H1: mu ≠ 12\n",
    "- alpha = 0.05\n",
    "\n",
    "**Question:** Determine if the manufacturing process is producing bolts that are significantly different from the target.\n"
   ]
  },
  {
   "cell_type": "code",
   "execution_count": 10,
   "metadata": {},
   "outputs": [],
   "source": [
    "# Your code here\n"
   ]
  },
  {
   "cell_type": "markdown",
   "metadata": {},
   "source": [
    "***\n",
    "# Exercise 8: Student Performance Comparison\n",
    "\n",
    "A school district claims their students score above the national average of 75 on standardized tests. A sample of 40 students has a mean score of 78 with a standard deviation of 8.\n",
    "- H0: mu = 75\n",
    "- H1: mu > 75\n",
    "- alpha = 0.05\n",
    "\n",
    "**Question:** Test if the district's students perform significantly better than the national average.\n"
   ]
  },
  {
   "cell_type": "code",
   "execution_count": 11,
   "metadata": {},
   "outputs": [],
   "source": [
    "# Your code here\n"
   ]
  },
  {
   "cell_type": "markdown",
   "metadata": {},
   "source": [
    "***\n",
    "# Exercise 9: Marketing Campaign Effectiveness\n",
    "\n",
    "A company claims their email marketing campaign has a 15% open rate. After sending 500 emails, 85 were opened.\n",
    "- H0: p = 0.15\n",
    "- H1: p ≠ 0.15\n",
    "- alpha = 0.05\n",
    "\n",
    "**Question:** Determine if the actual open rate differs significantly from the claimed rate.\n"
   ]
  },
  {
   "cell_type": "code",
   "execution_count": 12,
   "metadata": {},
   "outputs": [],
   "source": [
    "# Your code here\n"
   ]
  },
  {
   "cell_type": "markdown",
   "metadata": {},
   "source": [
    "***\n",
    "# Exercise 10: Product Weight Verification\n",
    "\n",
    "A food company packages cereal boxes claiming 500g net weight. The population standard deviation is 10g. A quality control sample of 20 boxes shows a mean weight of 495g.\n",
    "- H0: mu = 500\n",
    "- H1: mu < 500\n",
    "- alpha = 0.01\n",
    "\n",
    "**Question:** Test if the boxes are significantly underweight.\n"
   ]
  },
  {
   "cell_type": "code",
   "execution_count": 13,
   "metadata": {},
   "outputs": [],
   "source": [
    "# Your code here\n"
   ]
  },
  {
   "cell_type": "markdown",
   "metadata": {},
   "source": [
    "***\n",
    "# Exercise 11: Customer Wait Time Analysis\n",
    "\n",
    "A bank claims customers wait an average of 5 minutes in line. A sample of 35 customers shows a mean wait time of 6.2 minutes with a standard deviation of 1.8 minutes.\n",
    "- H0: mu = 5\n",
    "- H1: mu > 5\n",
    "- alpha = 0.05\n",
    "\n",
    "**Question:** Determine if customers wait significantly longer than claimed.\n"
   ]
  },
  {
   "cell_type": "code",
   "execution_count": 14,
   "metadata": {},
   "outputs": [],
   "source": [
    "# Your code here\n"
   ]
  },
  {
   "cell_type": "markdown",
   "metadata": {},
   "source": [
    "***\n",
    "# Exercise 12: Software Bug Rate\n",
    "\n",
    "A software company claims their application has a bug rate of 2%. After testing 1000 features, 28 bugs were found.\n",
    "- H0: p = 0.02\n",
    "- H1: p > 0.02\n",
    "- alpha = 0.05\n",
    "\n",
    "**Question:** Test if the actual bug rate is significantly higher than claimed.\n"
   ]
  },
  {
   "cell_type": "code",
   "execution_count": 15,
   "metadata": {},
   "outputs": [],
   "source": [
    "# Your code here\n"
   ]
  },
  {
   "cell_type": "code",
   "execution_count": null,
   "metadata": {},
   "outputs": [],
   "source": []
  }
 ],
 "metadata": {
  "kernelspec": {
   "display_name": "ada",
   "language": "python",
   "name": "python3"
  },
  "language_info": {
   "codemirror_mode": {
    "name": "ipython",
    "version": 3
   },
   "file_extension": ".py",
   "mimetype": "text/x-python",
   "name": "python",
   "nbconvert_exporter": "python",
   "pygments_lexer": "ipython3",
   "version": "3.11.13"
  }
 },
 "nbformat": 4,
 "nbformat_minor": 2
}
