{
 "cells": [
  {
   "cell_type": "markdown",
   "metadata": {},
   "source": [
    "# Exercises for Monday\n",
    "***\n",
    "# Exercise 1 : Pandas Fundamentals\n",
    "\n",
    "### Dataset Description\n",
    "We'll work with a **Sales Dataset** containing information about sales transactions:\n",
    "- **Product**: Product name\n",
    "- **Category**: Product category (Electronics, Clothing, Books, Home)\n",
    "- **Price**: Product price in CHF\n",
    "- **Quantity**: Number of items sold\n",
    "- **Date**: Sale date\n",
    "- **Region**: Sales region (North, South, East, West)\n",
    "\n",
    "\n",
    "**Load the dataset**: using pandas function, load the dataset from either `csv`, `excel` or `json` format."
   ]
  },
  {
   "cell_type": "code",
   "execution_count": 25,
   "metadata": {},
   "outputs": [],
   "source": [
    "# Your code here"
   ]
  },
  {
   "cell_type": "markdown",
   "metadata": {},
   "source": [
    "**Question 1**: Use the `.info()` method to get a concise summary of the DataFrame including:\n",
    "- Data types of each column\n",
    "- Number of non-null values\n",
    "- Memory usage\n",
    "\n",
    "**What to look for**: This method helps you quickly understand your dataset structure and identify any missing values."
   ]
  },
  {
   "cell_type": "code",
   "execution_count": 26,
   "metadata": {},
   "outputs": [],
   "source": [
    "# Your code here\n"
   ]
  },
  {
   "cell_type": "markdown",
   "metadata": {},
   "source": [
    "**Question 2**: Use the `.shape` attribute to get the dimensions of the DataFrame.\n",
    "\n",
    "**What to look for**: This returns a tuple (rows, columns) - very useful for quick dataset size checks.\n"
   ]
  },
  {
   "cell_type": "code",
   "execution_count": 27,
   "metadata": {},
   "outputs": [],
   "source": [
    "# Your code here\n"
   ]
  },
  {
   "cell_type": "markdown",
   "metadata": {},
   "source": [
    "**Question 3**: Use the `.dtypes` attribute to see the data type of each column.\n",
    "\n",
    "**What to look for**: Understanding data types is crucial for choosing the right operations and functions.\n"
   ]
  },
  {
   "cell_type": "code",
   "execution_count": 28,
   "metadata": {},
   "outputs": [],
   "source": [
    "# Your code here\n"
   ]
  },
  {
   "cell_type": "markdown",
   "metadata": {},
   "source": [
    "**Question 4**: Use the `.columns` attribute to get the list of column names.\n",
    "\n",
    "**What to look for**: This is useful for iterating over columns or checking if a specific column exists.\n"
   ]
  },
  {
   "cell_type": "code",
   "execution_count": 29,
   "metadata": {},
   "outputs": [],
   "source": [
    "# Your code here\n"
   ]
  },
  {
   "cell_type": "markdown",
   "metadata": {},
   "source": [
    "**Question 5**: Use the `.head()` method to display the first 5 rows of the DataFrame. Try with different numbers of rows too!\n",
    "\n",
    "**What to look for**: This gives you a quick preview of your data structure and values."
   ]
  },
  {
   "cell_type": "code",
   "execution_count": 30,
   "metadata": {},
   "outputs": [],
   "source": [
    "# Your code here\n"
   ]
  },
  {
   "cell_type": "markdown",
   "metadata": {},
   "source": [
    "**Question 6**: Use the `.tail()` method to display the last 5 rows of the DataFrame. Try with different numbers of rows!\n",
    "\n",
    "**What to look for**: This helps you see the end of your dataset and check for any patterns.\n"
   ]
  },
  {
   "cell_type": "code",
   "execution_count": 31,
   "metadata": {},
   "outputs": [],
   "source": [
    "# Your code here\n"
   ]
  },
  {
   "cell_type": "markdown",
   "metadata": {},
   "source": [
    "**Question 7**: Use the `.sample()` method to get a random sample of 10 rows from the DataFrame. Try different sample sizes!\n",
    "\n",
    "**What to look for**: This is great for getting a representative sample of your data for quick analysis.\n"
   ]
  },
  {
   "cell_type": "code",
   "execution_count": null,
   "metadata": {},
   "outputs": [],
   "source": [
    "# Your code here\n"
   ]
  },
  {
   "cell_type": "markdown",
   "metadata": {},
   "source": [
    "**Question 8**: Use the `.value_counts()` method on the 'Category' column to see the frequency of each category.\n",
    "\n",
    "**What to look for**: This shows you the distribution of categorical data - very useful for understanding your data!\n"
   ]
  },
  {
   "cell_type": "code",
   "execution_count": 33,
   "metadata": {},
   "outputs": [],
   "source": [
    "# Your code here\n"
   ]
  },
  {
   "cell_type": "markdown",
   "metadata": {},
   "source": [
    "\n",
    "**Question 9**: Select the 'Price' column using bracket notation and display it.\n",
    "\n",
    "**What to look for**: This returns a Series (single column) - the basic way to access columns in pandas."
   ]
  },
  {
   "cell_type": "code",
   "execution_count": 34,
   "metadata": {},
   "outputs": [],
   "source": [
    "# Your code here\n"
   ]
  },
  {
   "cell_type": "markdown",
   "metadata": {},
   "source": [
    "\n",
    "**Question 10**: Use `.iloc[0]` to select the first row of the DataFrame. Try selecting rows 0, 5, and 10.\n",
    "\n",
    "**What to look for**: This uses integer-based indexing to select rows by position."
   ]
  },
  {
   "cell_type": "code",
   "execution_count": null,
   "metadata": {},
   "outputs": [],
   "source": [
    "# Your code here\n"
   ]
  },
  {
   "cell_type": "markdown",
   "metadata": {},
   "source": [
    "**Question 11**: Calculate the mean of the 'Price' column using the `.mean()` method.\n",
    "\n",
    "**What to look for**: This gives you the average value - one of the most common statistical measures.\n"
   ]
  },
  {
   "cell_type": "code",
   "execution_count": null,
   "metadata": {},
   "outputs": [],
   "source": [
    "# Your code here\n"
   ]
  },
  {
   "cell_type": "markdown",
   "metadata": {},
   "source": [
    "**Question 12**: Calculate the standard deviation of the 'Price' column using the `.std()` method.\n",
    "\n",
    "**What to look for**: This measures the spread of your data - how much the values vary from the mean.\n"
   ]
  },
  {
   "cell_type": "code",
   "execution_count": null,
   "metadata": {},
   "outputs": [],
   "source": [
    "# Your code here\n"
   ]
  },
  {
   "cell_type": "markdown",
   "metadata": {},
   "source": [
    "\n",
    "**Question 13**: Calculate the total sum of the 'Quantity' column using the `.sum()` method.\n",
    "\n",
    "**What to look for**: This gives you the total of all values in the column."
   ]
  },
  {
   "cell_type": "code",
   "execution_count": null,
   "metadata": {},
   "outputs": [],
   "source": [
    "# Your code here\n"
   ]
  },
  {
   "cell_type": "markdown",
   "metadata": {},
   "source": [
    "\n",
    "**Question 14**: Use the `.count()` method to count the number of non-null values in each column.\n",
    "\n",
    "**What to look for**: This helps you identify missing values - if count is less than total rows, you have missing data."
   ]
  },
  {
   "cell_type": "code",
   "execution_count": null,
   "metadata": {},
   "outputs": [],
   "source": [
    "# Your code here\n"
   ]
  },
  {
   "cell_type": "markdown",
   "metadata": {},
   "source": [
    "\n",
    "**Question 15**: Use the `.describe()` method to get comprehensive summary statistics for all numerical columns.\n",
    "\n",
    "**What to look for**: This gives you count, mean, std, min, 25%, 50%, 75%, and max - a complete statistical overview!"
   ]
  },
  {
   "cell_type": "code",
   "execution_count": null,
   "metadata": {},
   "outputs": [],
   "source": [
    "# Your code here\n"
   ]
  },
  {
   "cell_type": "markdown",
   "metadata": {},
   "source": [
    "***\n",
    "# Exercise 2: Visualization\n",
    "\n",
    "## Visualization Types\n",
    "We'll cover both **univariate** (single variable) and **multivariate** (multiple variables) visualizations.\n",
    "\n",
    "**Question 1**: Create a univariate bar plot showing the count of products in each category."
   ]
  },
  {
   "cell_type": "code",
   "execution_count": null,
   "metadata": {},
   "outputs": [],
   "source": [
    "# Your code here\n"
   ]
  },
  {
   "cell_type": "markdown",
   "metadata": {},
   "source": [
    "**Question 2**: Create a univariate histogram showing the distribution of prices.\n"
   ]
  },
  {
   "cell_type": "code",
   "execution_count": 42,
   "metadata": {},
   "outputs": [],
   "source": [
    "# Your code here\n"
   ]
  },
  {
   "cell_type": "markdown",
   "metadata": {},
   "source": [
    "**Question 3**: Create a univariate box plot showing the distribution of quantities sold.\n"
   ]
  },
  {
   "cell_type": "code",
   "execution_count": 43,
   "metadata": {},
   "outputs": [],
   "source": [
    "# Your code here\n"
   ]
  },
  {
   "cell_type": "markdown",
   "metadata": {},
   "source": [
    "**Question 4**: Create a multivariate scatter plot showing the relationship between price and quantity.\n"
   ]
  },
  {
   "cell_type": "code",
   "execution_count": 44,
   "metadata": {},
   "outputs": [],
   "source": [
    "# Your code here\n"
   ]
  },
  {
   "cell_type": "markdown",
   "metadata": {},
   "source": [
    "**Question 5**: Create a multivariate histogram showing the distribution of prices grouped by category.\n"
   ]
  },
  {
   "cell_type": "code",
   "execution_count": 45,
   "metadata": {},
   "outputs": [],
   "source": [
    "# Your code here\n"
   ]
  },
  {
   "cell_type": "markdown",
   "metadata": {},
   "source": [
    "**Question 6**: Create a multivariate box plot showing the distribution of prices by region.\n",
    "\n"
   ]
  },
  {
   "cell_type": "code",
   "execution_count": 46,
   "metadata": {},
   "outputs": [],
   "source": [
    "# Your code here\n"
   ]
  },
  {
   "cell_type": "markdown",
   "metadata": {},
   "source": [
    "**Question 7**: Create a multivariate colored scatter plot showing price vs quantity, with colors representing different categories.\n",
    "\n"
   ]
  },
  {
   "cell_type": "code",
   "execution_count": 47,
   "metadata": {},
   "outputs": [],
   "source": [
    "# Your code here\n"
   ]
  },
  {
   "cell_type": "markdown",
   "metadata": {},
   "source": [
    "***\n",
    "# Exercise 3: Homework - Real Data Analysis\n",
    "\n",
    "Download the dataset \n",
    "\n",
    "\n",
    "**Question 1**: Load your dataset using pandas and extract maximum information using all the pandas functions from Exercise 1."
   ]
  },
  {
   "cell_type": "code",
   "execution_count": 48,
   "metadata": {},
   "outputs": [],
   "source": [
    "# Your code here\n"
   ]
  },
  {
   "cell_type": "markdown",
   "metadata": {},
   "source": [
    "**Question 2**: Create comprehensive visualizations of your dataset using all the plot types from Exercise 2.\n"
   ]
  },
  {
   "cell_type": "code",
   "execution_count": 49,
   "metadata": {},
   "outputs": [],
   "source": [
    "# Your code here\n"
   ]
  },
  {
   "cell_type": "code",
   "execution_count": null,
   "metadata": {},
   "outputs": [],
   "source": []
  }
 ],
 "metadata": {
  "kernelspec": {
   "display_name": "ada",
   "language": "python",
   "name": "python3"
  },
  "language_info": {
   "codemirror_mode": {
    "name": "ipython",
    "version": 3
   },
   "file_extension": ".py",
   "mimetype": "text/x-python",
   "name": "python",
   "nbconvert_exporter": "python",
   "pygments_lexer": "ipython3",
   "version": "3.14.0"
  }
 },
 "nbformat": 4,
 "nbformat_minor": 2
}
