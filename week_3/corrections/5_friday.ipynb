{
 "cells": [
  {
   "cell_type": "code",
   "execution_count": 1,
   "id": "cd0da2d4",
   "metadata": {},
   "outputs": [],
   "source": [
    "import pandas as pd\n",
    "import numpy as np\n",
    "import matplotlib.pyplot as plt\n",
    "from sklearn.preprocessing import PolynomialFeatures\n",
    "from sklearn.linear_model import LinearRegression\n",
    "from sklearn.pipeline import make_pipeline"
   ]
  },
  {
   "cell_type": "markdown",
   "id": "e46cfeab",
   "metadata": {},
   "source": [
    "# Exercises for Friday\n",
    "***\n",
    "# Exercise 1 : XGBoost models\n",
    "\n",
    "Using the `load_diabetes` from sklearn, train, validate and test a XGBoost model. \\\n",
    "What are the hyperparameters you wanna validate ?"
   ]
  },
  {
   "cell_type": "code",
   "execution_count": 2,
   "id": "6a8b6649",
   "metadata": {},
   "outputs": [],
   "source": [
    "# Your code here"
   ]
  },
  {
   "cell_type": "markdown",
   "id": "ca36504b",
   "metadata": {},
   "source": [
    "***\n",
    "# Exercise 2 : Succeed with your project! "
   ]
  },
  {
   "cell_type": "code",
   "execution_count": 3,
   "id": "c255c3a5",
   "metadata": {},
   "outputs": [],
   "source": [
    "# Your project here"
   ]
  }
 ],
 "metadata": {
  "kernelspec": {
   "display_name": "ada",
   "language": "python",
   "name": "python3"
  },
  "language_info": {
   "codemirror_mode": {
    "name": "ipython",
    "version": 3
   },
   "file_extension": ".py",
   "mimetype": "text/x-python",
   "name": "python",
   "nbconvert_exporter": "python",
   "pygments_lexer": "ipython3",
   "version": "3.11.13"
  }
 },
 "nbformat": 4,
 "nbformat_minor": 5
}
