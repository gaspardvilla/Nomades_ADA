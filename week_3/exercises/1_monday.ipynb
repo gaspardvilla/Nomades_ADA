{
 "cells": [
  {
   "cell_type": "code",
   "execution_count": null,
   "id": "cd0da2d4",
   "metadata": {},
   "outputs": [],
   "source": [
    "import pandas as pd\n",
    "import numpy as np\n",
    "import matplotlib.pyplot as plt\n",
    "from sklearn.preprocessing import PolynomialFeatures\n",
    "from sklearn.linear_model import LinearRegression\n",
    "from sklearn.pipeline import make_pipeline"
   ]
  },
  {
   "cell_type": "markdown",
   "id": "e46cfeab",
   "metadata": {},
   "source": [
    "# Exercises for Monday\n",
    "***\n",
    "# Exercise 1 : Overfitting / Underfitting\n",
    "\n",
    "After running the generator, load the `overfitting_data.csv`."
   ]
  },
  {
   "cell_type": "code",
   "execution_count": null,
   "id": "9bb7c86f",
   "metadata": {},
   "outputs": [],
   "source": [
    "# Load the dataset"
   ]
  },
  {
   "cell_type": "markdown",
   "id": "499a2f14",
   "metadata": {},
   "source": [
    "Using the folowing models, plot the prdictions you obtained for each of the models."
   ]
  },
  {
   "cell_type": "code",
   "execution_count": null,
   "id": "b1e43fc8",
   "metadata": {},
   "outputs": [],
   "source": [
    "# Fit polynomial regression\n",
    "model_true = make_pipeline(PolynomialFeatures(1), LinearRegression())\n",
    "model_under = make_pipeline(PolynomialFeatures(2), LinearRegression())\n",
    "model_over = make_pipeline(PolynomialFeatures(10), LinearRegression())\n",
    "\n",
    "# Your code here - fit the models to the data\n",
    "model_true.fit(data['x'].to_numpy().reshape(-1, 1), data['y'].to_numpy().reshape(-1, 1))\n",
    "model_under.fit(data['x'].to_numpy().reshape(-1, 1), data['y'].to_numpy().reshape(-1, 1))\n",
    "model_over.fit(data['x'].to_numpy().reshape(-1, 1), data['y'].to_numpy().reshape(-1, 1))"
   ]
  },
  {
   "cell_type": "code",
   "execution_count": null,
   "id": "9a9abdb1",
   "metadata": {},
   "outputs": [],
   "source": [
    "# Your code here"
   ]
  },
  {
   "cell_type": "markdown",
   "id": "02169d00",
   "metadata": {},
   "source": [
    "***\n",
    "# Exercise 2 : Cross-validation using sklearn\n",
    "\n",
    "Load the dataset `knn_dataset.csv` (NOT THE `knn_testset.csv`)."
   ]
  },
  {
   "cell_type": "code",
   "execution_count": null,
   "id": "3de60ee6",
   "metadata": {},
   "outputs": [],
   "source": [
    "# Load the knn_dataset.csv\n"
   ]
  },
  {
   "cell_type": "markdown",
   "id": "d43db343",
   "metadata": {},
   "source": [
    "Split the dataset into a Training / Testing set with the function `train_test_split` from sklearn, using a repartition 80% - 20%."
   ]
  },
  {
   "cell_type": "code",
   "execution_count": null,
   "id": "338058ad",
   "metadata": {},
   "outputs": [],
   "source": [
    "# Your code here"
   ]
  },
  {
   "cell_type": "markdown",
   "id": "3d0cf720",
   "metadata": {},
   "source": [
    "***\n",
    "# Exercise 3 : KNN model\n",
    "\n",
    "Train a KNN a model on the train set and validate the results on the test set.\n"
   ]
  },
  {
   "cell_type": "code",
   "execution_count": null,
   "id": "99c28124",
   "metadata": {},
   "outputs": [],
   "source": [
    "# Your code here"
   ]
  },
  {
   "cell_type": "markdown",
   "id": "561e133e",
   "metadata": {},
   "source": [
    "Now, load a real test set `knn_testset.csv` and test your model. What happens to your performances ? "
   ]
  },
  {
   "cell_type": "code",
   "execution_count": null,
   "id": "d0018a3f",
   "metadata": {},
   "outputs": [],
   "source": [
    "# Your code here"
   ]
  },
  {
   "cell_type": "code",
   "execution_count": null,
   "id": "865c2d8f",
   "metadata": {},
   "outputs": [],
   "source": []
  }
 ],
 "metadata": {
  "kernelspec": {
   "display_name": "ada",
   "language": "python",
   "name": "python3"
  },
  "language_info": {
   "codemirror_mode": {
    "name": "ipython",
    "version": 3
   },
   "file_extension": ".py",
   "mimetype": "text/x-python",
   "name": "python",
   "nbconvert_exporter": "python",
   "pygments_lexer": "ipython3",
   "version": "3.11.13"
  }
 },
 "nbformat": 4,
 "nbformat_minor": 5
}
