{
 "cells": [
  {
   "cell_type": "code",
   "execution_count": 5,
   "id": "cd0da2d4",
   "metadata": {},
   "outputs": [],
   "source": [
    "import pandas as pd\n",
    "import numpy as np\n",
    "import matplotlib.pyplot as plt\n",
    "from sklearn.preprocessing import PolynomialFeatures\n",
    "from sklearn.linear_model import LinearRegression\n",
    "from sklearn.pipeline import make_pipeline"
   ]
  },
  {
   "cell_type": "markdown",
   "id": "e46cfeab",
   "metadata": {},
   "source": [
    "# Exercises for Tuesday\n",
    "***\n",
    "# Exercise 1 : Linear regression\n",
    "\n",
    "Load the dataset `load_diabetes` from sklearn library and train and test a linear regression model on this data set.\n",
    "\n",
    "**NB:** Full pipeline of a Data Science project is waited for this exercise."
   ]
  },
  {
   "cell_type": "code",
   "execution_count": 6,
   "id": "7866b240",
   "metadata": {},
   "outputs": [],
   "source": [
    "# Load the dataset"
   ]
  },
  {
   "cell_type": "code",
   "execution_count": 7,
   "id": "1fc05984",
   "metadata": {},
   "outputs": [],
   "source": [
    "# Your code here"
   ]
  },
  {
   "cell_type": "markdown",
   "id": "ce07503f",
   "metadata": {},
   "source": [
    "***\n",
    "# Exercise 2 : Ridge and Lasso regressions\n",
    "\n",
    "**Question 1 :** Still using the `load_diabetes` dataset, build a polynomial model by adding and selecting the different polynomial features. "
   ]
  },
  {
   "cell_type": "code",
   "execution_count": 8,
   "id": "86f6b614",
   "metadata": {},
   "outputs": [],
   "source": [
    "# Your code here"
   ]
  },
  {
   "cell_type": "markdown",
   "id": "ecaf521f",
   "metadata": {},
   "source": [
    "**Question 2 :** Train and test a model using Ridge regression technique. \n"
   ]
  },
  {
   "cell_type": "code",
   "execution_count": 9,
   "id": "cc9596a9",
   "metadata": {},
   "outputs": [],
   "source": [
    "# Your code here"
   ]
  },
  {
   "cell_type": "markdown",
   "id": "d9a75e0e",
   "metadata": {},
   "source": [
    "**Question 3 :** Train and test a model using Lasso regression technique."
   ]
  },
  {
   "cell_type": "code",
   "execution_count": 10,
   "id": "f7793fe0",
   "metadata": {},
   "outputs": [],
   "source": [
    "# Your code here"
   ]
  },
  {
   "cell_type": "code",
   "execution_count": null,
   "id": "730f2568",
   "metadata": {},
   "outputs": [],
   "source": []
  }
 ],
 "metadata": {
  "kernelspec": {
   "display_name": "ada",
   "language": "python",
   "name": "python3"
  },
  "language_info": {
   "codemirror_mode": {
    "name": "ipython",
    "version": 3
   },
   "file_extension": ".py",
   "mimetype": "text/x-python",
   "name": "python",
   "nbconvert_exporter": "python",
   "pygments_lexer": "ipython3",
   "version": "3.11.13"
  }
 },
 "nbformat": 4,
 "nbformat_minor": 5
}
