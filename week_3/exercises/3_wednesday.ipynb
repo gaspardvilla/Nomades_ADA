{
 "cells": [
  {
   "cell_type": "code",
   "execution_count": 1,
   "id": "cd0da2d4",
   "metadata": {},
   "outputs": [],
   "source": [
    "import pandas as pd\n",
    "import numpy as np\n",
    "import matplotlib.pyplot as plt\n",
    "from sklearn.preprocessing import PolynomialFeatures\n",
    "from sklearn.linear_model import LinearRegression\n",
    "from sklearn.pipeline import make_pipeline"
   ]
  },
  {
   "cell_type": "markdown",
   "id": "e46cfeab",
   "metadata": {},
   "source": [
    "# Exercises for Wednesday\n",
    "***\n",
    "# Exercise 1 : Digits dataset\n",
    "\n",
    "Using the `load_digits` function from sklearn, load the dataset and visualize how the dataset is built."
   ]
  },
  {
   "cell_type": "code",
   "execution_count": 2,
   "id": "3aea1908",
   "metadata": {},
   "outputs": [],
   "source": [
    "# Your code here"
   ]
  },
  {
   "cell_type": "markdown",
   "id": "cc13ab94",
   "metadata": {},
   "source": [
    "Train a Logostic Regression model from sklearn and visualize the performances of this model on the classification task.\n",
    "\n",
    "**NB :** we are facing MULTICLASS classification task ;)"
   ]
  },
  {
   "cell_type": "code",
   "execution_count": 3,
   "id": "b4037153",
   "metadata": {},
   "outputs": [],
   "source": [
    "# Your code here"
   ]
  },
  {
   "cell_type": "markdown",
   "id": "70983270",
   "metadata": {},
   "source": [
    "Did you cross-validate the solver ?"
   ]
  },
  {
   "cell_type": "code",
   "execution_count": 4,
   "id": "28aad307",
   "metadata": {},
   "outputs": [],
   "source": [
    "# Your code here"
   ]
  },
  {
   "cell_type": "markdown",
   "id": "04362638",
   "metadata": {},
   "source": [
    "***\n",
    "# Exercise 2 : Support Vector Machine models\n",
    "\n",
    "Still using the `load_digits` dataset, validate the kernel and train a SVM model to fit the data."
   ]
  },
  {
   "cell_type": "code",
   "execution_count": 5,
   "id": "c7587c58",
   "metadata": {},
   "outputs": [],
   "source": [
    "# Your code here"
   ]
  }
 ],
 "metadata": {
  "kernelspec": {
   "display_name": "ada",
   "language": "python",
   "name": "python3"
  },
  "language_info": {
   "codemirror_mode": {
    "name": "ipython",
    "version": 3
   },
   "file_extension": ".py",
   "mimetype": "text/x-python",
   "name": "python",
   "nbconvert_exporter": "python",
   "pygments_lexer": "ipython3",
   "version": "3.11.13"
  }
 },
 "nbformat": 4,
 "nbformat_minor": 5
}
