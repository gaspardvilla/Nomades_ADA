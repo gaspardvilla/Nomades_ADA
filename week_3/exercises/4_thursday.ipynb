{
 "cells": [
  {
   "cell_type": "code",
   "execution_count": 1,
   "id": "cd0da2d4",
   "metadata": {},
   "outputs": [],
   "source": [
    "import pandas as pd\n",
    "import numpy as np\n",
    "import matplotlib.pyplot as plt\n",
    "from sklearn.preprocessing import PolynomialFeatures\n",
    "from sklearn.linear_model import LinearRegression\n",
    "from sklearn.model_selection import train_test_split"
   ]
  },
  {
   "cell_type": "markdown",
   "id": "e46cfeab",
   "metadata": {},
   "source": [
    "# Exercises for Thursday\n",
    "***\n",
    "# Exercise 1 : Decision trees\n",
    "\n",
    "From the generator run you made, load the `decision_trees.csv` dataset and visualize it."
   ]
  },
  {
   "cell_type": "code",
   "execution_count": 2,
   "id": "c449517f",
   "metadata": {},
   "outputs": [],
   "source": [
    "# Your code here"
   ]
  },
  {
   "cell_type": "markdown",
   "id": "726027a2",
   "metadata": {},
   "source": [
    "Train and test a Decision Tree model (as a regression task) on this data set for a depth going from 2 to 5. \\\n",
    "What do you observe ? "
   ]
  },
  {
   "cell_type": "code",
   "execution_count": 3,
   "id": "45b3fdbc",
   "metadata": {},
   "outputs": [],
   "source": [
    "# Your code here"
   ]
  },
  {
   "cell_type": "markdown",
   "id": "c6b9899e",
   "metadata": {},
   "source": [
    "***\n",
    "# Exercise 2 : Random forest\n",
    "\n",
    "Load the previous dataset from sklearn and train a Random Forest model on it."
   ]
  },
  {
   "cell_type": "code",
   "execution_count": 4,
   "id": "9ee941e0",
   "metadata": {},
   "outputs": [],
   "source": [
    "# Your code here"
   ]
  },
  {
   "cell_type": "markdown",
   "id": "b214b923",
   "metadata": {},
   "source": [
    "***\n",
    "# Exercise 3 : Random forest\n",
    "\n",
    "Load the `load_diabetes` dataset from sklearn and train, validate and test a Random Forest model on it. \\\n",
    "Do not forget to validate your hyperparameters."
   ]
  },
  {
   "cell_type": "code",
   "execution_count": 5,
   "id": "5bd36960",
   "metadata": {},
   "outputs": [],
   "source": [
    "# Your code here"
   ]
  },
  {
   "cell_type": "code",
   "execution_count": null,
   "id": "6efa909b",
   "metadata": {},
   "outputs": [],
   "source": []
  }
 ],
 "metadata": {
  "kernelspec": {
   "display_name": "ada",
   "language": "python",
   "name": "python3"
  },
  "language_info": {
   "codemirror_mode": {
    "name": "ipython",
    "version": 3
   },
   "file_extension": ".py",
   "mimetype": "text/x-python",
   "name": "python",
   "nbconvert_exporter": "python",
   "pygments_lexer": "ipython3",
   "version": "3.11.13"
  }
 },
 "nbformat": 4,
 "nbformat_minor": 5
}
